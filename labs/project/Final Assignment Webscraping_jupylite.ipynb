{
  "metadata": {
    "kernelspec": {
      "name": "python",
      "display_name": "Python (Pyodide)",
      "language": "python"
    },
    "language_info": {
      "codemirror_mode": {
        "name": "python",
        "version": 3
      },
      "file_extension": ".py",
      "mimetype": "text/x-python",
      "name": "python",
      "nbconvert_exporter": "python",
      "pygments_lexer": "ipython3",
      "version": "3.8"
    }
  },
  "nbformat_minor": 4,
  "nbformat": 4,
  "cells": [
    {
      "cell_type": "markdown",
      "source": "<center>\n    <img src=\"https://cf-courses-data.s3.us.cloud-object-storage.appdomain.cloud/IBMDeveloperSkillsNetwork-PY0220EN-SkillsNetwork/labs/project/Images/SN_logo.png\" width=\"300\" alt=\"cognitiveclass.ai logo\">\n</center>\n",
      "metadata": {}
    },
    {
      "cell_type": "markdown",
      "source": "<h1>Extracting Stock Data Using a Web Scraping</h1>\n",
      "metadata": {}
    },
    {
      "cell_type": "markdown",
      "source": "Not all stock data is available via the API in this assignment; you will use web-scraping to obtain financial data. You will be quizzed on your results.  \n You will extract and share historical data from a web page using the BeautifulSoup library.\n",
      "metadata": {}
    },
    {
      "cell_type": "markdown",
      "source": "<h2>Table of Contents</h2>\n<div class=\"alert alert-block alert-info\" style=\"margin-top: 20px\">\n    \n1. Extracting data using BeautifulSoup\n   \n    <ul> \n    <li> Download the web page Using Requests Library </li>\n    <li> Parse HTML on a web page using BeautifulSoup </li>\n    <li> Extract data and duild a data frame </li>\n\n    </ul>\n\n2. Extracting data using pandas\n3. Exercise\n<p>\n    Estimated Time Needed: <strong>30 min</strong></p>\n</div>\n\n<hr>\n",
      "metadata": {}
    },
    {
      "cell_type": "code",
      "source": "%pip install pandas\n%pip install requests\n%pip install bs4\n%pip install html5lib \n%pip install lxml\n%pip install plotly",
      "metadata": {
        "tags": [],
        "trusted": true
      },
      "outputs": [],
      "execution_count": null
    },
    {
      "cell_type": "code",
      "source": "import pandas as pd\nimport requests\nfrom bs4 import BeautifulSoup",
      "metadata": {
        "tags": [],
        "trusted": true
      },
      "outputs": [],
      "execution_count": null
    },
    {
      "cell_type": "markdown",
      "source": "In Python, you can ignore warnings using the warnings module. You can use the filterwarnings function to filter or ignore specific warning messages or categories.\n",
      "metadata": {}
    },
    {
      "cell_type": "code",
      "source": "import warnings\n# Ignore all warnings\nwarnings.filterwarnings(\"ignore\", category=FutureWarning)",
      "metadata": {
        "tags": [],
        "trusted": true
      },
      "outputs": [],
      "execution_count": null
    },
    {
      "cell_type": "markdown",
      "source": "## Using Webscraping to Extract Stock Data Example\n",
      "metadata": {}
    },
    {
      "cell_type": "markdown",
      "source": "We will extract Netflix stock data [https://cf-courses-data.s3.us.cloud-object-storage.appdomain.cloud/IBMDeveloperSkillsNetwork-PY0220EN-SkillsNetwork/labs/project/netflix_data_webpage.html](https://cf-courses-data.s3.us.cloud-object-storage.appdomain.cloud/IBMDeveloperSkillsNetwork-PY0220EN-SkillsNetwork/labs/project/netflix_data_webpage.html).\n",
      "metadata": {}
    },
    {
      "cell_type": "markdown",
      "source": "<center> \n    \n#### In this example, we are using yahoo finance website and looking to extract Netflix data.\n\n</center>\n    <br>\n\n  <img src=\"https://cf-courses-data.s3.us.cloud-object-storage.appdomain.cloud/IBMDeveloperSkillsNetwork-PY0220EN-SkillsNetwork/labs/project/Images/netflix.png\"> </center> \n  \n<center> Fig:- Table that we need to extract </center>\n",
      "metadata": {}
    },
    {
      "cell_type": "markdown",
      "source": "On the following web page we have a table with columns name (Date, Open, High, Low, close, adj close volume) out of which we must extract following columns  \n\n* Date \n\n* Open  \n\n* High \n\n* Low \n\n* Close \n\n* Volume \n\n",
      "metadata": {}
    },
    {
      "cell_type": "markdown",
      "source": "# Steps for extracting the data\n1. Send an HTTP request to the web page using the requests library.\n2. Parse the HTML content of the web page using BeautifulSoup.\n3. Identify the HTML tags that contain the data you want to extract.\n4. Use BeautifulSoup methods to extract the data from the HTML tags.\n5. Print the extracted data\n",
      "metadata": {}
    },
    {
      "cell_type": "markdown",
      "source": "### Step 1: Send an HTTP request to the web page\n",
      "metadata": {}
    },
    {
      "cell_type": "markdown",
      "source": "You will use the request library for sending an HTTP request to the web page.<br>\n",
      "metadata": {}
    },
    {
      "cell_type": "code",
      "source": "url = \"https://cf-courses-data.s3.us.cloud-object-storage.appdomain.cloud/IBMDeveloperSkillsNetwork-PY0220EN-SkillsNetwork/labs/project/netflix_data_webpage.html\"",
      "metadata": {
        "tags": [],
        "trusted": true
      },
      "outputs": [],
      "execution_count": null
    },
    {
      "cell_type": "markdown",
      "source": "The requests.get() method takes a URL as its first argument, which specifies the location of the resource to be retrieved. In this case, the value of the url variable is passed as the argument to the requests.get() method, because you will store a web page URL in a url variable.\n\nYou use the .text method for extracting the HTML content as a string in order to make it readable.\n",
      "metadata": {}
    },
    {
      "cell_type": "code",
      "source": "data  = requests.get(url).text\nprint(data)",
      "metadata": {
        "tags": [],
        "trusted": true
      },
      "outputs": [],
      "execution_count": null
    },
    {
      "cell_type": "markdown",
      "source": "### Step 2: Parse the HTML content\n",
      "metadata": {}
    },
    {
      "cell_type": "markdown",
      "source": "<hr>\n<hr>\n<center>\n\n# What is parsing?\nIn simple words, parsing refers to the process of analyzing a string of text or a data structure, usually following a set of rules or grammar, to understand its structure and meaning.\nParsing involves breaking down a piece of text or data into its individual components or elements, and then analyzing those components to extract the desired information or to understand their relationships and meanings.</center>\n<hr>\n<hr>\n",
      "metadata": {}
    },
    {
      "cell_type": "markdown",
      "source": "Next you will take the raw HTML content of a web page or a string of HTML code which needs to be parsed and transformed into a structured, hierarchical format that can be more easily analyzed and manipulated in Python. This can be done using a Python library called <b>Beautiful Soup</b>.\n",
      "metadata": {}
    },
    {
      "cell_type": "markdown",
      "source": "## Parsing the data using the BeautifulSoup library\n* Create a new BeautifulSoup object.\n<br>\n<br>\n<b>Note: </b>To create a BeautifulSoup object in Python, you need to pass two arguments to its constructor:\n\n1. The HTML or XML content that you want to parse as a string.\n2. The name of the parser that you want to use to parse the HTML or XML content. This argument is optional, and if you don't specify a parser, BeautifulSoup will use the default HTML parser included with the library.\nhere in this lab we are using \"html5lib\" parser.\n",
      "metadata": {}
    },
    {
      "cell_type": "code",
      "source": "soup = BeautifulSoup(data, 'html5lib')",
      "metadata": {
        "tags": [],
        "trusted": true
      },
      "outputs": [],
      "execution_count": null
    },
    {
      "cell_type": "markdown",
      "source": "### Step 3: Identify the HTML tags\n",
      "metadata": {}
    },
    {
      "cell_type": "markdown",
      "source": "As stated above, the web page consists of a table so, we will scrape the content of the HTML web page and convert the table into a data frame.\n",
      "metadata": {}
    },
    {
      "cell_type": "markdown",
      "source": "You will create an empty data frame using the <b> pd.DataFrame() </b> function with the following columns:\n* \"Date\"\n* \"Open\"\n* \"High\" \n* \"Low\" \n* \"Close\"\n* \"Volume\"\n",
      "metadata": {}
    },
    {
      "cell_type": "code",
      "source": "netflix_data = pd.DataFrame(columns=[\"Date\", \"Open\", \"High\", \"Low\", \"Close\", \"Volume\"])",
      "metadata": {
        "tags": [],
        "trusted": true
      },
      "outputs": [],
      "execution_count": null
    },
    {
      "cell_type": "markdown",
      "source": "<hr>\n<hr>\n<center>\n\n### Working on HTML table  </center>\n<br>\n\nThese are the following tags which are used while creating HTML tables.\n\n* &lt;table&gt;: This tag is a root tag used to define the start and end of the table. All the content of the table is enclosed within these tags. \n\n\n* &lt;tr&gt;: This tag is used to define a table row. Each row of the table is defined within this tag.\n\n* &lt;td&gt;: This tag is used to define a table cell. Each cell of the table is defined within this tag. You can specify the content of the cell between the opening and closing <td> tags.\n\n* &lt;th&gt;: This tag is used to define a header cell in the table. The header cell is used to describe the contents of a column or row. By default, the text inside a <th> tag is bold and centered.\n\n* &lt;tbody&gt;: This is the main content of the table, which is defined using the <tbody> tag. It contains one or more rows of <tr> elements.\n\n<hr>\n<hr>\n\n",
      "metadata": {}
    },
    {
      "cell_type": "markdown",
      "source": "### Step 4: Use a BeautifulSoup method for extracting data\n",
      "metadata": {}
    },
    {
      "cell_type": "code",
      "source": "# Initialize an empty list to store row data\nrows_data = []\n\n# Extract table rows and columns\nfor row in soup.find(\"tbody\").find_all('tr'):\n    col = row.find_all(\"td\")\n    date = col[0].text.strip()\n    open_price = col[1].text.strip()\n    high = col[2].text.strip()\n    low = col[3].text.strip()\n    close = col[4].text.strip()\n    adj_close = col[5].text.strip()\n    volume = col[6].text.strip()\n\n    # Append the row data as a dictionary to the list\n    rows_data.append({\n        \"Date\": date,\n        \"Open\": open_price,\n        \"High\": high,\n        \"Low\": low,\n        \"Close\": close,\n        \"Adj Close\": adj_close,\n        \"Volume\": volume\n    })\n\n# Convert the list of dictionaries into a DataFrame\nnetflix_data = pd.DataFrame(rows_data)\n\nprint(netflix_data)",
      "metadata": {
        "trusted": true
      },
      "outputs": [],
      "execution_count": null
    },
    {
      "cell_type": "markdown",
      "source": "\nWe will use <b>find()</b> and <b>find_all()</b> methods of the BeautifulSoup object to locate the table body and table row respectively in the HTML. \n   * The <i>find() method </i> will return particular tag content.\n   * The <i>find_all()</i> method returns a list of all matching tags in the HTML.\n",
      "metadata": {}
    },
    {
      "cell_type": "markdown",
      "source": "### Step 5: Print the extracted data\n",
      "metadata": {}
    },
    {
      "cell_type": "markdown",
      "source": "We can now print out the data frame using the head() or tail() function.\n",
      "metadata": {}
    },
    {
      "cell_type": "code",
      "source": "netflix_data.head()",
      "metadata": {
        "tags": [],
        "trusted": true
      },
      "outputs": [],
      "execution_count": null
    },
    {
      "cell_type": "markdown",
      "source": "# Extracting data using `pandas` library\n",
      "metadata": {}
    },
    {
      "cell_type": "markdown",
      "source": "We can also use the pandas `read_html` function from the pandas library and use the URL for extracting data.\n",
      "metadata": {}
    },
    {
      "cell_type": "markdown",
      "source": "<center>\n\n## What is read_html in pandas library?\n`pd.read_html(url)` is a function provided by the pandas library in Python that is used to extract tables from HTML web pages. It takes in a URL as input and returns a list of all the tables found on the web page. \n\n\nSince JupyterLite does not support direct HTTP requests or the pandas.read_html() function due to its limitations (e.g., lack of access to the internet or external libraries like lxml), you can work around this by downloading the HTML file locally and then processing it. \n\n</center>\n",
      "metadata": {}
    },
    {
      "cell_type": "code",
      "source": "# Download the HTML content\nresponse = requests.get(url)\n\n# Check if the request was successful\nif response.status_code == 200:\n    # Save the HTML content to a local file\n    with open(\"table.html\", \"w\", encoding=\"utf-8\") as file:\n        file.write(response.text)\n    print(\"HTML file downloaded successfully.\")\nelse:\n    print(f\"Failed to download HTML. Status code: {response.status_code}\")",
      "metadata": {
        "trusted": true
      },
      "outputs": [],
      "execution_count": null
    },
    {
      "cell_type": "code",
      "source": "read_html_pandas_data = pd.read_html(\"table.html\")",
      "metadata": {
        "trusted": true
      },
      "outputs": [],
      "execution_count": null
    },
    {
      "cell_type": "code",
      "source": "#read_html_pandas_data = pd.read_html(url)",
      "metadata": {
        "tags": [],
        "trusted": true
      },
      "outputs": [],
      "execution_count": null
    },
    {
      "cell_type": "markdown",
      "source": "Or you can convert the BeautifulSoup object to a string.\n",
      "metadata": {}
    },
    {
      "cell_type": "code",
      "source": "read_html_pandas_data = pd.read_html(str(soup))",
      "metadata": {
        "tags": [],
        "trusted": true
      },
      "outputs": [],
      "execution_count": null
    },
    {
      "cell_type": "markdown",
      "source": "Because there is only one table on the page, just take the first table in the returned list.\n",
      "metadata": {}
    },
    {
      "cell_type": "code",
      "source": "netflix_dataframe = read_html_pandas_data[0]\n\nnetflix_dataframe.head()",
      "metadata": {
        "tags": [],
        "trusted": true
      },
      "outputs": [],
      "execution_count": null
    },
    {
      "cell_type": "markdown",
      "source": "# Exercise: use webscraping to extract stock data\n",
      "metadata": {}
    },
    {
      "cell_type": "markdown",
      "source": "Use the `requests` library to download the webpage [https://cf-courses-data.s3.us.cloud-object-storage.appdomain.cloud/IBMDeveloperSkillsNetwork-PY0220EN-SkillsNetwork/labs/project/amazon_data_webpage.html](https://cf-courses-data.s3.us.cloud-object-storage.appdomain.cloud/IBMDeveloperSkillsNetwork-PY0220EN-SkillsNetwork/labs/project/amazon_data_webpage.html). Save the text of the response as a variable named `html_data`.\n",
      "metadata": {}
    },
    {
      "cell_type": "code",
      "source": "url = \"https://cf-courses-data.s3.us.cloud-object-storage.appdomain.cloud/IBMDeveloperSkillsNetwork-PY0220EN-SkillsNetwork/labs/project/amazon_data_webpage.html\"\ndata = requests.get(url).text\nsoup = BeautifulSoup(data, 'html5lib')",
      "metadata": {
        "tags": [],
        "trusted": true
      },
      "outputs": [],
      "execution_count": null
    },
    {
      "cell_type": "markdown",
      "source": "Parse the html data using `beautiful_soup`.\n",
      "metadata": {}
    },
    {
      "cell_type": "code",
      "source": "soup = BeautifulSoup(data, 'html5lib')",
      "metadata": {
        "tags": [],
        "trusted": true
      },
      "outputs": [],
      "execution_count": null
    },
    {
      "cell_type": "markdown",
      "source": "<b>Question 1:</b> What is the content of the title attribute?\n",
      "metadata": {}
    },
    {
      "cell_type": "code",
      "source": "soup.title\n\n",
      "metadata": {
        "tags": [],
        "trusted": true
      },
      "outputs": [],
      "execution_count": null
    },
    {
      "cell_type": "markdown",
      "source": "Using BeautifulSoup, extract the table with historical share prices and store it into a data frame named `amazon_data`. The data frame should have columns Date, Open, High, Low, Close, Adj Close, and Volume. Fill in each variable with the correct data from the list `col`. \n",
      "metadata": {}
    },
    {
      "cell_type": "code",
      "source": "# Initialize an empty list to store row data\nrows_data = []\n\n# Extract table rows and columns\nfor row in soup.find(\"tbody\").find_all('tr'):\n    col = row.find_all(\"td\")\n    date = col[0].text.strip()\n    open_price = col[1].text.strip()\n    high = col[2].text.strip()\n    low = col[3].text.strip()\n    close = col[4].text.strip()\n    adj_close = col[5].text.strip()\n    volume = col[6].text.strip()\n\n    # Append the row data as a dictionary to the list\n    rows_data.append({\n        \"Date\": date,\n        \"Open\": open_price,\n        \"High\": high,\n        \"Low\": low,\n        \"Close\": close,\n        \"Adj Close\": adj_close,\n        \"Volume\": volume\n    })\n\n# Convert the list of dictionaries into a DataFrame\namazon_data = pd.DataFrame(rows_data)\n\nprint(amazon_data)\n\n\n\n",
      "metadata": {
        "tags": [],
        "trusted": true
      },
      "outputs": [],
      "execution_count": null
    },
    {
      "cell_type": "markdown",
      "source": "Print out the first five rows of the `amazon_data` data frame you created.\n",
      "metadata": {}
    },
    {
      "cell_type": "code",
      "source": "amazon_data.head()",
      "metadata": {
        "tags": [],
        "trusted": true
      },
      "outputs": [],
      "execution_count": null
    },
    {
      "cell_type": "markdown",
      "source": "<b>Question 2:</b> What are the names of the columns in the data frame?\n",
      "metadata": {}
    },
    {
      "cell_type": "code",
      "source": "amazon_data.columns",
      "metadata": {
        "tags": [],
        "trusted": true
      },
      "outputs": [],
      "execution_count": null
    },
    {
      "cell_type": "markdown",
      "source": "<b>Question 3:</b> What is the `Open` of the last row of the amazon_data data frame?\n",
      "metadata": {}
    },
    {
      "cell_type": "code",
      "source": "amazon_data.tail()",
      "metadata": {
        "tags": [],
        "trusted": true
      },
      "outputs": [],
      "execution_count": null
    },
    {
      "cell_type": "markdown",
      "source": "<h2>About the Authors:</h2> \n\n<a href=\"https://www.linkedin.com/in/joseph-s-50398b136/\">Joseph Santarcangelo</a> has a PhD in Electrical Engineering, his research focused on using machine learning, signal processing, and computer vision to determine how videos impact human cognition. Joseph has been working for IBM since he completed his PhD.\n\nAzim Hirjani<br>\nAkansha yadav\n",
      "metadata": {}
    },
    {
      "cell_type": "markdown",
      "source": "## Change Log\n\n| Date (YYYY-MM-DD) | Version | Changed By    |       Change Description              |\n| ----------------- | ------- | ------------- | ------------------------------------- |\n|  01-09-2024       |   1.4   | Walter Chang | Updated to work on jupyterlite 0.4.5 |\n|  02-05-2023       |   1.3   | Akansha yadav | Updated Lab content under maintenance |\n|  2021-06-09       | 1.2     | Lakshmi Holla |   Added URL in question 3             |\n|  2020-11-10       | 1.1     | Malika Singla |   Deleted the Optional part           |\n|  2020-08-27       | 1.0     | Malika Singla |   Added lab to GitLab                 |\n\n<hr>\n\n## <h3 align=\"center\"> © IBM Corporation 2020. All rights reserved. <h3/>\n\n<p>\n",
      "metadata": {}
    }
  ]
}